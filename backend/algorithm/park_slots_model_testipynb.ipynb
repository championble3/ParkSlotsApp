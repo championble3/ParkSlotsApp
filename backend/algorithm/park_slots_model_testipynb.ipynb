{
 "cells": [
  {
   "cell_type": "code",
   "execution_count": null,
   "id": "56434820",
   "metadata": {},
   "outputs": [],
   "source": [
    "import torch.nn as nn\n",
    "import torch\n",
    "from sklearn.model_selection import train_test_split\n",
    "class RegressionModel(nn.Module):\n",
    "    def __init__(self, input_size):\n",
    "        super(RegressionModel, self).__init__()\n",
    "        self.fc1 = nn.Linear(input_size, 32)\n",
    "        self.fc2 = nn.Linear(32, 8)\n",
    "        self.fc3 = nn.Linear(8, 1)\n",
    "        self.relu = nn.ReLU()\n",
    "\n",
    "    def forward(self, x):\n",
    "        x = self.fc1(x)\n",
    "        x = self.relu(x)\n",
    "        x = self.fc2(x)\n",
    "        x = self.relu(x)\n",
    "        x = self.fc3(x) \n",
    "        return x\n",
    "    \n",
    "model = RegressionModel()\n",
    "model.load_state_dict(torch.load('park_slots_pred_model.pth'))\n",
    "model.eval()\n",
    "def predict_slots(input_data):\n",
    "    input_tensor = torch.tensor(input_data, dtype=torch.float32)\n",
    "    with torch.no_grad():\n",
    "        prediction = model(input_tensor)\n",
    "    return prediction.item()\n",
    "predict_slots"
   ]
  }
 ],
 "metadata": {
  "language_info": {
   "name": "python"
  }
 },
 "nbformat": 4,
 "nbformat_minor": 5
}
